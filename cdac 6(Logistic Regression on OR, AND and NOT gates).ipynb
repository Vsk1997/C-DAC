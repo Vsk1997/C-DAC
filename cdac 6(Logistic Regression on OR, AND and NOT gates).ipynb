{
 "cells": [
  {
   "cell_type": "code",
   "execution_count": 1,
   "metadata": {},
   "outputs": [],
   "source": [
    "import pandas as pd\n",
    "import sys\n",
    "import numpy as np\n",
    "from sklearn.datasets import load_iris\n",
    "import operator\n",
    "import time\n",
    "import warnings\n",
    "import matplotlib.pyplot as plt\n",
    "from mpl_toolkits.mplot3d import Axes3D\n",
    "warnings.filterwarnings(\"ignore\")\n",
    "plt.style.use(\"seaborn-talk\")\n",
    "%matplotlib inline"
   ]
  },
  {
   "cell_type": "code",
   "execution_count": 2,
   "metadata": {},
   "outputs": [],
   "source": [
    "def sigmoid(Z):\n",
    "    return 1/(1+np.exp(-Z))"
   ]
  },
  {
   "cell_type": "code",
   "execution_count": 3,
   "metadata": {},
   "outputs": [],
   "source": [
    "def hypothysis(x,weight):\n",
    "    return np.array(np.dot(x,weight))"
   ]
  },
  {
   "cell_type": "code",
   "execution_count": 5,
   "metadata": {},
   "outputs": [],
   "source": [
    "def error_function(y,y_cap):\n",
    "    error=(-y*np.log(y_cap)-(1-y)*np.log(1-y_cap)).mean()\n",
    "    return error"
   ]
  },
  {
   "cell_type": "code",
   "execution_count": 9,
   "metadata": {},
   "outputs": [],
   "source": [
    "def gradient_decent(x,y,y_cap,alpha=0.1):\n",
    "    return alpha*(x.T @ (y_cap-y).T)/len(y)"
   ]
  },
  {
   "cell_type": "code",
   "execution_count": 10,
   "metadata": {},
   "outputs": [],
   "source": [
    "def calculate_weight(x,y,weight=np.array([1,1,1])):\n",
    "    for i in range(1000000):\n",
    "        Y=hypothysis(x,weight)\n",
    "        y_cap=sigmoid(Y)\n",
    "        error=error_function(y,y_cap)\n",
    "        weight=weight-gradient_decent(x,y,y_cap)\n",
    "    return weight,error"
   ]
  },
  {
   "cell_type": "code",
   "execution_count": 11,
   "metadata": {},
   "outputs": [
    {
     "name": "stdout",
     "output_type": "stream",
     "text": [
      "NOT Weight [  9.72069778 -19.84688469]\n",
      "NOT Error 5.002168453367184e-05\n",
      "\n",
      "AND Weight [-25.21088598  16.69507241  16.69507241]\n",
      "AND Error 0.00017022080030906336\n",
      "\n",
      "OR Weight [-8.51610922 17.94864265 17.94864265]\n",
      "OR Error 9.008574311050567e-05\n",
      "\n"
     ]
    }
   ],
   "source": [
    "INPUT=np.array([[1,0,0],[1,1,0],[1,0,1],[1,1,1]])\n",
    "\n",
    "NOT_weight,error=calculate_weight(np.array([[1,1],[1,0]]),np.array([0,1]),np.array([0,0]))\n",
    "print(\"NOT Weight\",NOT_weight)\n",
    "print(\"NOT Error\",error,end=\"\\n\\n\")\n",
    "\n",
    "AND=np.array([0,0,0,1])\n",
    "AND_weight,error=calculate_weight(INPUT,AND)\n",
    "print(\"AND Weight\",AND_weight)\n",
    "print(\"AND Error\",error,end=\"\\n\\n\")\n",
    "\n",
    "OR=np.array([0,1,1,1])\n",
    "OR_weight,error=calculate_weight(INPUT,OR)\n",
    "print(\"OR Weight\",OR_weight)\n",
    "print(\"OR Error\",error,end=\"\\n\\n\")\n",
    "\n"
   ]
  },
  {
   "cell_type": "code",
   "execution_count": 12,
   "metadata": {},
   "outputs": [],
   "source": []
  },
  {
   "cell_type": "code",
   "execution_count": null,
   "metadata": {},
   "outputs": [],
   "source": []
  }
 ],
 "metadata": {
  "kernelspec": {
   "display_name": "Python 3",
   "language": "python",
   "name": "python3"
  },
  "language_info": {
   "codemirror_mode": {
    "name": "ipython",
    "version": 3
   },
   "file_extension": ".py",
   "mimetype": "text/x-python",
   "name": "python",
   "nbconvert_exporter": "python",
   "pygments_lexer": "ipython3",
   "version": "3.6.5"
  }
 },
 "nbformat": 4,
 "nbformat_minor": 2
}
