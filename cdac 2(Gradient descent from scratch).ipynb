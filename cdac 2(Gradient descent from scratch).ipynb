{
 "cells": [
  {
   "cell_type": "code",
   "execution_count": 3,
   "metadata": {},
   "outputs": [],
   "source": [
    "import numpy as np\n",
    "from sklearn.datasets import make_regression"
   ]
  },
  {
   "cell_type": "code",
   "execution_count": 5,
   "metadata": {},
   "outputs": [],
   "source": [
    "x,y=make_regression(100,noise=6,n_features=1)\n",
    "y=y.reshape(-1,1)\n"
   ]
  },
  {
   "cell_type": "code",
   "execution_count": 7,
   "metadata": {},
   "outputs": [],
   "source": [
    "def calculate_weight(x,y,epouch,print_interval):\n",
    "    print(\"Iteration\",\"Error\",\"Bias\",\"\\tWeight\",sep=\"\\t\\t\\t\")\n",
    "    x=np.insert(x,0,1,axis=1)\n",
    "    theta=np.zeros(len(x[0]))\n",
    "    m=y.size\n",
    "    for i in range(epouch):\n",
    "        h=(x@theta).reshape(-1,1) ##Hadamord product @\n",
    "        error=((y-h)**2).mean()\n",
    "        theta=theta-0.01*(1/m)*(x.T.dot(h-y)).reshape(-1)\n",
    "        print(str(i).center(10),error,theta[0],theta[1],sep=\"\\t\\t\") if not i%print_interval else _\n",
    "    print(str(i+1).center(10),error,theta[0],theta[1],sep=\"\\t\\t\")\n",
    "    return theta\n",
    "\n",
    "def Predict(p,theta):\n",
    "    x=np.insert([p],0,1,axis=0)\n",
    "    return x.dot(theta)\n",
    "\n",
    "\n"
   ]
  },
  {
   "cell_type": "code",
   "execution_count": 8,
   "metadata": {},
   "outputs": [
    {
     "name": "stdout",
     "output_type": "stream",
     "text": [
      "Iteration\t\t\tError\t\t\tBias\t\t\t\tWeight\n",
      "    0     \t\t2477.8785076946547\t\t0.011249296858248273\t\t0.43472031851308834\n",
      "   200    \t\t145.00661407423996\t\t0.7014532762256535\t\t44.377946192122636\n",
      "   400    \t\t40.824557920350564\t\t0.6542120545621791\t\t53.666228940963514\n",
      "   600    \t\t36.16602258268112\t\t0.6183459285647803\t\t55.63010804593733\n",
      "   800    \t\t35.95760787184477\t\t0.6072947469377015\t\t56.045425446466226\n",
      "   1000   \t\t35.94828868723407\t\t0.6044994422447175\t\t56.1330832565725\n"
     ]
    }
   ],
   "source": [
    "theta=calculate_weight(x,y,1000,200)"
   ]
  },
  {
   "cell_type": "code",
   "execution_count": 15,
   "metadata": {},
   "outputs": [
    {
     "data": {
      "text/plain": [
       "array([ 0.60449944, 56.13308326])"
      ]
     },
     "execution_count": 15,
     "metadata": {},
     "output_type": "execute_result"
    }
   ],
   "source": [
    "theta"
   ]
  },
  {
   "cell_type": "code",
   "execution_count": 20,
   "metadata": {},
   "outputs": [],
   "source": [
    "def goodness_of_fit(x,y,epouch):\n",
    "    x=np.insert(x,0,1,axis=1)\n",
    "    theta=np.zeros(len(x[0]))\n",
    "    m=y.size\n",
    "    for i in range(epouch):\n",
    "        h=(x@theta).reshape(-1,1) ##Hadamord product @\n",
    "        error=((y-h)**2).mean()\n",
    "        theta=theta-0.01*(1/m)*(x.T.dot(h-y)).reshape(-1)\n",
    "    sst=np.sum((y-y.mean())**2,axis=0)\n",
    "    ssr=np.sum((h-y.mean())**2,axis=0)\n",
    "    sse=np.sum((y-h)**2,axis=0)\n",
    "    R2=ssr/sst\n",
    "    return R2"
   ]
  },
  {
   "cell_type": "code",
   "execution_count": 21,
   "metadata": {},
   "outputs": [
    {
     "name": "stdout",
     "output_type": "stream",
     "text": [
      "[0.98464523]\n"
     ]
    }
   ],
   "source": [
    "print(goodness_of_fit(x,y,1000))"
   ]
  },
  {
   "cell_type": "code",
   "execution_count": null,
   "metadata": {},
   "outputs": [],
   "source": []
  },
  {
   "cell_type": "code",
   "execution_count": null,
   "metadata": {},
   "outputs": [],
   "source": []
  }
 ],
 "metadata": {
  "kernelspec": {
   "display_name": "Python 3",
   "language": "python",
   "name": "python3"
  },
  "language_info": {
   "codemirror_mode": {
    "name": "ipython",
    "version": 3
   },
   "file_extension": ".py",
   "mimetype": "text/x-python",
   "name": "python",
   "nbconvert_exporter": "python",
   "pygments_lexer": "ipython3",
   "version": "3.6.5"
  }
 },
 "nbformat": 4,
 "nbformat_minor": 2
}
