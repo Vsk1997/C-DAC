{
 "cells": [
  {
   "cell_type": "code",
   "execution_count": 9,
   "metadata": {},
   "outputs": [
    {
     "name": "stdout",
     "output_type": "stream",
     "text": [
      "[[-0.16595599  0.44064899 -0.99977125 -0.39533485]\n",
      " [-0.70648822 -0.81532281 -0.62747958 -0.30887855]\n",
      " [-0.20646505  0.07763347 -0.16161097  0.370439  ]]\n",
      "[[-0.5910955 ]\n",
      " [ 0.75623487]\n",
      " [-0.94522481]\n",
      " [ 0.34093502]]\n",
      "error0.4964100319027255\n",
      "error0.008584525653247157\n",
      "error0.005789459862507806\n",
      "error0.004629176776769983\n",
      "error0.003958765280273646\n",
      "error0.0035101225678616736\n",
      "Output after training\n",
      "[[0.00260572]\n",
      " [0.99672209]\n",
      " [0.99701711]\n",
      " [0.00386759]]\n"
     ]
    }
   ],
   "source": [
    "import numpy as np\n",
    "def nonlin(x,deriv=False):\n",
    "    if(deriv==True):\n",
    "        return x*(1-x)\n",
    "    return 1/(1+np.exp(-x))\n",
    "X=np.array([[0,0,1],[0,1,1],[1,0,1],[1,1,1]])\n",
    "y=np.array([[0],[1],[1],[0]])\n",
    "np.random.seed(1)\n",
    "syn0=2*np.random.random((3,4))-1\n",
    "syn1=2*np.random.random((4,1))-1\n",
    "print(syn0)\n",
    "print(syn1)\n",
    "for j in range(60000):\n",
    "    l0=X\n",
    "    l1=nonlin(np.dot(l0,syn0))\n",
    "    l2=nonlin(np.dot(l1,syn1))\n",
    "    l2_error=y-l2\n",
    "    if(j%10000)==0:\n",
    "        print(\"error\"+str(np.mean(np.abs(l2_error))))\n",
    "        \n",
    "    l2_delta=l2_error*nonlin(l2,deriv=True)\n",
    "    l1_error=l2_delta.dot(syn1.T)\n",
    "    l1_delta=l1_error*nonlin(l1,deriv=True)\n",
    "    \n",
    "    syn1+=l1.T.dot(l2_delta)\n",
    "    syn0+=l0.T.dot(l1_delta)\n",
    "\n",
    "print(\"Output after training\")\n",
    "print(l2)"
   ]
  },
  {
   "cell_type": "code",
   "execution_count": null,
   "metadata": {},
   "outputs": [],
   "source": [
    "np.random.seed(1)\n",
    "print(2*np.random.random((3,4))-1)\n",
    "np.random.random((3,4))"
   ]
  },
  {
   "cell_type": "code",
   "execution_count": 4,
   "metadata": {},
   "outputs": [],
   "source": [
    "l2=np.dot(X,syn0)"
   ]
  },
  {
   "cell_type": "code",
   "execution_count": 9,
   "metadata": {},
   "outputs": [
    {
     "data": {
      "text/plain": [
       "array([[-0.97538679,  2.02685775, -2.52949751, -5.84371739],\n",
       "       [ 2.60874805,  8.84133705,  5.07843684, -1.15975616],\n",
       "       [-4.57674389, -1.14511418,  4.78006494, -0.64626622],\n",
       "       [-2.99260905,  3.66936512, 10.3879993 ,  2.03769501]])"
      ]
     },
     "execution_count": 9,
     "metadata": {},
     "output_type": "execute_result"
    }
   ],
   "source": [
    "l2_error=y-l2\n",
    "l2_error"
   ]
  },
  {
   "cell_type": "code",
   "execution_count": 10,
   "metadata": {},
   "outputs": [
    {
     "data": {
      "text/plain": [
       "array([[ 2.40074018e-02, -6.13501010e+00, -3.86886014e+00,\n",
       "        -2.83053156e+01],\n",
       "       [-4.19681833e+00, -6.93279037e+01, -2.07120839e+01,\n",
       "        -2.50479052e+00],\n",
       "       [-2.55233285e+01, -2.45640065e+00, -1.80689559e+01,\n",
       "        -1.06392624e+00],\n",
       "       [-5.96309988e+00, -1.71336055e+01, -1.18298529e+02,\n",
       "        -6.18989598e+00]])"
      ]
     },
     "execution_count": 10,
     "metadata": {},
     "output_type": "execute_result"
    }
   ],
   "source": [
    "l2*(1-l2)"
   ]
  },
  {
   "cell_type": "code",
   "execution_count": 17,
   "metadata": {},
   "outputs": [
    {
     "data": {
      "text/plain": [
       "array([[-2.34165026e-02, -1.24347928e+01,  9.78627209e+00,\n",
       "         1.65408265e+02],\n",
       "       [-1.09484416e+01, -6.12951363e+02, -1.05185010e+02,\n",
       "         2.90494623e+00],\n",
       "       [ 1.16813738e+02,  2.81285921e+00, -8.63707827e+01,\n",
       "         6.87579591e-01],\n",
       "       [ 1.78452267e+01, -6.28694542e+01, -1.22888503e+03,\n",
       "        -1.26131202e+01]])"
      ]
     },
     "execution_count": 17,
     "metadata": {},
     "output_type": "execute_result"
    }
   ],
   "source": [
    "l2_error*(l2*(1-l2))"
   ]
  },
  {
   "cell_type": "code",
   "execution_count": 6,
   "metadata": {},
   "outputs": [
    {
     "data": {
      "text/plain": [
       "array([[0, 0, 1, 1],\n",
       "       [0, 1, 0, 1],\n",
       "       [1, 1, 1, 1]])"
      ]
     },
     "execution_count": 6,
     "metadata": {},
     "output_type": "execute_result"
    }
   ],
   "source": [
    "X.T"
   ]
  },
  {
   "cell_type": "code",
   "execution_count": null,
   "metadata": {},
   "outputs": [],
   "source": []
  }
 ],
 "metadata": {
  "kernelspec": {
   "display_name": "Python 3",
   "language": "python",
   "name": "python3"
  },
  "language_info": {
   "codemirror_mode": {
    "name": "ipython",
    "version": 3
   },
   "file_extension": ".py",
   "mimetype": "text/x-python",
   "name": "python",
   "nbconvert_exporter": "python",
   "pygments_lexer": "ipython3",
   "version": "3.6.5"
  }
 },
 "nbformat": 4,
 "nbformat_minor": 2
}
