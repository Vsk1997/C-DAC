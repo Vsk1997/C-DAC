{
 "cells": [
  {
   "cell_type": "code",
   "execution_count": 1,
   "metadata": {},
   "outputs": [],
   "source": [
    "import pandas as pd\n",
    "import sys\n",
    "import numpy as np\n",
    "from sklearn.datasets import load_iris\n",
    "import operator\n",
    "import time\n",
    "import warnings\n",
    "import matplotlib.pyplot as plt\n",
    "from mpl_toolkits.mplot3d import Axes3D\n",
    "warnings.filterwarnings(\"ignore\")\n",
    "plt.style.use(\"seaborn-talk\")\n",
    "%matplotlib inline"
   ]
  },
  {
   "cell_type": "code",
   "execution_count": 3,
   "metadata": {},
   "outputs": [],
   "source": [
    "data=load_iris()\n",
    "X=data[\"data\"]\n",
    "Y=data[\"target\"]\n",
    "X=np.array([np.append(i,1) for i in X])"
   ]
  },
  {
   "cell_type": "code",
   "execution_count": 4,
   "metadata": {},
   "outputs": [],
   "source": [
    "def hypothysis(x,weight):\n",
    "    return np.array(np.dot(x,weight)).astype((np.float64))"
   ]
  },
  {
   "cell_type": "code",
   "execution_count": 9,
   "metadata": {},
   "outputs": [],
   "source": [
    "def sigmoid(Z):\n",
    "    return 1/(1+np.exp(-Z))"
   ]
  },
  {
   "cell_type": "code",
   "execution_count": 10,
   "metadata": {},
   "outputs": [],
   "source": [
    "def softmax(Z):\n",
    "    value=np.exp(Z)/sum(np.exp(Z))\n",
    "    return value"
   ]
  },
  {
   "cell_type": "code",
   "execution_count": 11,
   "metadata": {},
   "outputs": [],
   "source": [
    "def gradient_decent(x,y,weight,alpha=0.1):\n",
    "    Y_cap=hypothysis(x,weight)\n",
    "    S_cap=sigmoid(Y_cap)\n",
    "    weight=weight-alpha*np.dot((S_cap-y),x)/len(y)\n",
    "    return weight"
   ]
  },
  {
   "cell_type": "code",
   "execution_count": 12,
   "metadata": {},
   "outputs": [],
   "source": [
    "def fit(x,y):\n",
    "    weight=np.zeros(len(X[0]))\n",
    "    for i in np.arange(1,0.001,-0.0001):\n",
    "        weight=gradient_decent(x,y,weight,i)\n",
    "    return weight"
   ]
  },
  {
   "cell_type": "markdown",
   "metadata": {},
   "source": [
    "# get_class is one vs all splitter"
   ]
  },
  {
   "cell_type": "markdown",
   "metadata": {},
   "source": [
    "# train_for_each Train model with each class"
   ]
  },
  {
   "cell_type": "code",
   "execution_count": 17,
   "metadata": {},
   "outputs": [],
   "source": [
    "def get_data(cls):\n",
    "    x,y=[],[]\n",
    "    for i,j in zip(X,Y):\n",
    "        if j==cls:\n",
    "            j=1\n",
    "        else:\n",
    "            j=0\n",
    "        x.append(i)\n",
    "        y.append(j)\n",
    "    return x,y\n",
    "\n",
    "def train_for_each_class():\n",
    "    classes=[0,1,2]\n",
    "    weights=dict()\n",
    "    for i in classes:\n",
    "        x,y=get_data(i)\n",
    "        weights[i]=fit(x,y)\n",
    "    return weights"
   ]
  },
  {
   "cell_type": "code",
   "execution_count": 18,
   "metadata": {},
   "outputs": [],
   "source": [
    "weights=train_for_each_class()"
   ]
  },
  {
   "cell_type": "code",
   "execution_count": 19,
   "metadata": {},
   "outputs": [
    {
     "data": {
      "text/plain": [
       "{0: array([ 1.02965788,  3.51912209, -5.5396349 , -2.62856789,  0.6451333 ]),\n",
       " 1: array([-1.41856052, -3.74387691,  2.27504891, -4.04203892, 14.79411878]),\n",
       " 2: array([ -4.71730633,  -5.71871022,   7.70940704,  10.96386452,\n",
       "        -10.45010658])}"
      ]
     },
     "execution_count": 19,
     "metadata": {},
     "output_type": "execute_result"
    }
   ],
   "source": [
    "weights"
   ]
  },
  {
   "cell_type": "code",
   "execution_count": 24,
   "metadata": {},
   "outputs": [],
   "source": [
    "def test():\n",
    "    for i, data in enumerate(zip(X,Y)):\n",
    "        x,y=data\n",
    "        values=[]\n",
    "        for i in weights:\n",
    "            values.append(hypothysis(x,weights[i]))\n",
    "        index,v=max(enumerate(softmax(values)),key=operator.itemgetter(1))\n",
    "        \n",
    "        if y!=index:\n",
    "            print(\"Error=>\",x,\"Actual=>\",y,\"Predict=>\",index)\n",
    "    print(\"Accuracy\",100-3/150*100)"
   ]
  },
  {
   "cell_type": "code",
   "execution_count": 25,
   "metadata": {},
   "outputs": [
    {
     "name": "stdout",
     "output_type": "stream",
     "text": [
      "Error=> [5.9 3.2 4.8 1.8 1. ] Actual=> 1 Predict=> 2\n",
      "Error=> [6.  2.7 5.1 1.6 1. ] Actual=> 1 Predict=> 2\n",
      "Error=> [6.3 2.8 5.1 1.5 1. ] Actual=> 2 Predict=> 1\n",
      "Accuracy 98.0\n"
     ]
    }
   ],
   "source": [
    "test()"
   ]
  },
  {
   "cell_type": "code",
   "execution_count": null,
   "metadata": {},
   "outputs": [],
   "source": []
  }
 ],
 "metadata": {
  "kernelspec": {
   "display_name": "Python 3",
   "language": "python",
   "name": "python3"
  },
  "language_info": {
   "codemirror_mode": {
    "name": "ipython",
    "version": 3
   },
   "file_extension": ".py",
   "mimetype": "text/x-python",
   "name": "python",
   "nbconvert_exporter": "python",
   "pygments_lexer": "ipython3",
   "version": "3.6.5"
  }
 },
 "nbformat": 4,
 "nbformat_minor": 2
}
