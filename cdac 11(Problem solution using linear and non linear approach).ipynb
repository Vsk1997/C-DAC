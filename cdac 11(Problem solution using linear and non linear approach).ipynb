{
 "cells": [
  {
   "cell_type": "markdown",
   "metadata": {},
   "source": [
    "## First Method"
   ]
  },
  {
   "cell_type": "code",
   "execution_count": 1,
   "metadata": {},
   "outputs": [
    {
     "name": "stdout",
     "output_type": "stream",
     "text": [
      "[[-0.16595599  0.44064899 -0.99977125 -0.39533485 -0.70648822 -0.81532281\n",
      "  -0.62747958 -0.30887855]\n",
      " [-0.20646505  0.07763347 -0.16161097  0.370439   -0.5910955   0.75623487\n",
      "  -0.94522481  0.34093502]\n",
      " [-0.1653904   0.11737966 -0.71922612 -0.60379702  0.60148914  0.93652315\n",
      "  -0.37315164  0.38464523]\n",
      " [ 0.7527783   0.78921333 -0.82991158 -0.92189043 -0.66033916  0.75628501\n",
      "  -0.80330633 -0.15778475]\n",
      " [ 0.91577906  0.06633057  0.38375423 -0.36896874  0.37300186  0.66925134\n",
      "  -0.96342345  0.50028863]]\n",
      "[[ 0.97772218]\n",
      " [ 0.49633131]\n",
      " [-0.43911202]\n",
      " [ 0.57855866]\n",
      " [-0.79354799]\n",
      " [-0.10421295]\n",
      " [ 0.81719101]\n",
      " [-0.4127717 ]]\n",
      "error0.3990070740353202\n",
      "error0.002456785814652322\n",
      "error0.0016749535968706485\n",
      "error0.0013423152363943166\n",
      "error0.0011483085207945939\n",
      "error0.0010178505844630785\n",
      "Output after training\n",
      "[[0.0027746 ]\n",
      " [0.99850342]\n",
      " [0.99847255]\n",
      " [0.99998562]\n",
      " [0.99847056]\n",
      " [0.99998568]\n",
      " [0.9999842 ]\n",
      " [0.99999166]]\n",
      "[[ 3.67779277]\n",
      " [ 3.5197633 ]\n",
      " [-5.54444532]\n",
      " [-0.02457629]\n",
      " [-4.9229302 ]\n",
      " [ 4.86913607]\n",
      " [-0.06435528]\n",
      " [-0.6699938 ]]\n",
      "[[-1.07977625e+00 -3.43224082e-01  8.89673977e-03 -5.19523171e-01\n",
      "   8.53806816e-02 -1.44641329e+00 -8.97256867e-01 -2.34861543e-01]\n",
      " [ 1.99366367e+00  1.98562586e+00 -2.65549747e+00  7.08160763e-01\n",
      "  -2.68970933e+00  2.81027591e+00 -8.41651191e-01 -3.61802428e-02]\n",
      " [ 2.09337802e+00  2.07497901e+00 -2.92324014e+00 -3.21830546e-01\n",
      "  -2.16601026e+00  2.93574964e+00 -1.98412798e-01 -1.09936581e-02]\n",
      " [ 2.22395413e+00  2.14747427e+00 -2.69658055e+00 -7.68800728e-01\n",
      "  -2.48253988e+00  2.56343866e+00 -7.22658345e-01 -4.77306520e-01]\n",
      " [ 1.95880544e-03 -7.17542499e-01  1.39242222e+00 -4.93157054e-01\n",
      "   1.16487076e+00  3.81608599e-02 -1.23320073e+00  5.74305633e-01]]\n"
     ]
    }
   ],
   "source": [
    "import numpy as np\n",
    "def nonlin(x,deriv=False):\n",
    "    if(deriv==True):\n",
    "        return x*(1-x)\n",
    "    return 1/(1+np.exp(-x))\n",
    "X=np.array([[1,0,0,0,1],[1,0,0,1,1],[1,0,1,0,1],[1,0,1,1,1],[1,1,0,0,1],[1,1,0,1,1],[1,1,1,0,1],[1,1,1,1,1]])\n",
    "y=np.array([[0],[1],[1],[1],[1],[1],[1],[1]])\n",
    "np.random.seed(1)\n",
    "syn0=2*np.random.random((5,8))-1\n",
    "syn1=2*np.random.random((8,1))-1\n",
    "print(syn0)\n",
    "print(syn1)\n",
    "for j in range(60000):\n",
    "    l0=X\n",
    "    l1=nonlin(np.dot(l0,syn0))\n",
    "    l2=nonlin(np.dot(l1,syn1))\n",
    "    l2_error=y-l2\n",
    "    if(j%10000)==0:\n",
    "        print(\"error\"+str(np.mean(np.abs(l2_error))))\n",
    "        \n",
    "    l2_delta=l2_error*nonlin(l2,deriv=True)\n",
    "    l1_error=l2_delta.dot(syn1.T)\n",
    "    l1_delta=l1_error*nonlin(l1,deriv=True)\n",
    "    \n",
    "    syn1+=l1.T.dot(l2_delta)\n",
    "    syn0+=l0.T.dot(l1_delta)\n",
    "\n",
    "print(\"Output after training\")\n",
    "print(l2)\n",
    "print(syn1)\n",
    "print(syn0)"
   ]
  },
  {
   "cell_type": "markdown",
   "metadata": {},
   "source": [
    "## Second Method"
   ]
  },
  {
   "cell_type": "code",
   "execution_count": 6,
   "metadata": {},
   "outputs": [],
   "source": [
    "import pandas as pd\n",
    "import sys\n",
    "import numpy as np\n",
    "import warnings\n",
    "import matplotlib.pyplot as plt\n",
    "from mpl_toolkits.mplot3d import Axes3D\n",
    "warnings.filterwarnings(\"ignore\")\n",
    "plt.style.use(\"seaborn-talk\")\n",
    "%matplotlib notebook\n",
    "\n",
    "def sigmoid(x):\n",
    "    return 1/(1+np.exp(-x))\n",
    "def hypothysis(x,w):\n",
    "    return np.dot(x,w)\n",
    "def error_function(y,y_cap):\n",
    "    error=((-y*np.log(y_cap)-(1-y)*np.log(1-y_cap))**2).mean()\n",
    "    return error\n",
    "def gradient_decent(x,y,y_cap,alpha=0.2):\n",
    "    return alpha*(x.T@(y_cap - y).T/len(y))\n",
    "def calculate_weight(x,y,weight=np.array([1,1,1])):\n",
    "    for z in np.arange(1,0.00001,-0.0001):\n",
    "        Y=hypothysis(x,weight)\n",
    "        y_cap=sigmoid(Y)\n",
    "        error=error_function(y,y_cap)\n",
    "        weight=weight - gradient_decent(x,y,y_cap,z)\n",
    "    return weight,error\n"
   ]
  },
  {
   "cell_type": "code",
   "execution_count": 11,
   "metadata": {},
   "outputs": [
    {
     "name": "stdout",
     "output_type": "stream",
     "text": [
      "Weight [-2.27050917 -2.27050917 10.26838236 10.26838236 10.26838236]\n",
      "Error 1.802298150095122e-05\n"
     ]
    }
   ],
   "source": [
    "INPUT=X=np.array([[1,1,0,0,0],[1,1,0,0,1],[1,1,0,1,0],[1,1,0,1,1],[1,1,1,0,0],[1,1,1,0,1],[1,1,1,1,0],[1,1,1,1,1]])\n",
    "\n",
    "OR=np.array([0,1,1,1,1,1,1,1])\n",
    "OR_weight,error=calculate_weight(INPUT,OR,np.array([0,0,0,0,0]))\n",
    "print(\"Weight\",OR_weight)\n",
    "print(\"Error\",error)"
   ]
  },
  {
   "cell_type": "code",
   "execution_count": 12,
   "metadata": {},
   "outputs": [],
   "source": [
    "y_cap=sigmoid(np.dot(INPUT,OR_weight))"
   ]
  },
  {
   "cell_type": "code",
   "execution_count": 13,
   "metadata": {},
   "outputs": [
    {
     "data": {
      "text/plain": [
       "array([0.01055005, 0.99675492, 0.99675492, 0.99999989, 0.99675492,\n",
       "       0.99999989, 0.99999989, 1.        ])"
      ]
     },
     "execution_count": 13,
     "metadata": {},
     "output_type": "execute_result"
    }
   ],
   "source": [
    "y_cap"
   ]
  },
  {
   "cell_type": "code",
   "execution_count": null,
   "metadata": {},
   "outputs": [],
   "source": []
  }
 ],
 "metadata": {
  "kernelspec": {
   "display_name": "Python 3",
   "language": "python",
   "name": "python3"
  },
  "language_info": {
   "codemirror_mode": {
    "name": "ipython",
    "version": 3
   },
   "file_extension": ".py",
   "mimetype": "text/x-python",
   "name": "python",
   "nbconvert_exporter": "python",
   "pygments_lexer": "ipython3",
   "version": "3.6.5"
  }
 },
 "nbformat": 4,
 "nbformat_minor": 2
}
